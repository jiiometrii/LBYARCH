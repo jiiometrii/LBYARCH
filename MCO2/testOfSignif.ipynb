{
 "cells": [
  {
   "cell_type": "code",
   "execution_count": 9,
   "metadata": {},
   "outputs": [
    {
     "name": "stdout",
     "output_type": "stream",
     "text": [
      "t-statistic: -441.39411779338303\n",
      "p-value: 4.6869694435266393e-57\n",
      "Reject null hypothesis. asm_func30 is significantly faster than c_func30.\n"
     ]
    }
   ],
   "source": [
    "from scipy import stats\n",
    "\n",
    "c_func30 = [3054.2602, 2956.2517, 2941.1467, 2954.4176, 2938.4714, 2935.9971, 2935.4483, 2950.7525, 2979.9089,\n",
    "            3034.4438, 2992.5414, 2942.5811, 2940.8550, 2931.4219, 2932.5026, 2935.8029, 2931.8877, 2935.0632,\n",
    "            2935.7589, 2932.6628, 2943.3168, 2929.6098, 2935.3876, 2929.1885, 2936.9101, 2930.9948, 2943.0545, \n",
    "            2936.7380, 2933.7298, 2954.8480]\n",
    "asm_func30 = [757.8275, 732.7847, 731.9627, 733.9825, 731.6712, 736.5839, \n",
    "            757.9663, 734.4760, 739.3675, 732.1881, 735.0438, 743.2536, \n",
    "            731.6797, 731.0079, 732.5697, 731.7200, 732.3674, 730.5594, \n",
    "            734.6348, 733.0818, 732.4685, 730.2119, 730.9124, 732.7035, \n",
    "            732.4846, 734.8772, 731.7794, 733.0743, 739.7521, 738.0284]\n",
    "\n",
    "t_statistic, p_value = stats.ttest_rel(asm_func30, c_func30)\n",
    "\n",
    "# Define significance level\n",
    "alpha = 0.05\n",
    "\n",
    "# Print results\n",
    "print(\"t-statistic:\", t_statistic)\n",
    "print(\"p-value:\", p_value)\n",
    "\n",
    "if p_value < alpha:\n",
    "    print(\"Reject null hypothesis. asm_func30 is significantly faster than c_func30.\")\n",
    "else:\n",
    "    print(\"Fail to reject null hypothesis. There is no significant difference in speed.\")"
   ]
  },
  {
   "cell_type": "code",
   "execution_count": 10,
   "metadata": {},
   "outputs": [
    {
     "name": "stdout",
     "output_type": "stream",
     "text": [
      "t-statistic: -441.39411779338303\n",
      "p-value: 4.6869694435266393e-57\n",
      "Reject null hypothesis. asm_func30 is significantly faster than c_func30.\n"
     ]
    }
   ],
   "source": [
    "c_func24 = [46.4792, 45.4352, 46.3407, 45.6890, 46.4602, 46.0064, \n",
    "            46.3359, 46.2620, 45.9131, 45.4297, 45.4148, 46.3831, \n",
    "            46.1335, 45.7166, 46.3213, 45.5723, 45.7026, 45.7438, \n",
    "            45.5495, 45.7344, 46.0694, 45.8476, 46.5087, 47.1021, \n",
    "            45.4618, 45.7509, 45.6677, 45.6070, 46.1604, 46.3270]\n",
    "\n",
    "asm_func24 = [11.8287, 11.4909, 11.5902, 11.3568, 11.3366, 11.5269, \n",
    "              11.3388, 11.3106, 11.4312, 11.3662, 11.3126, 11.3721, \n",
    "              11.3630, 11.3150, 11.3482, 11.3671, 11.3549, 11.3453, \n",
    "              11.4583, 11.3259, 11.3933, 11.3673, 11.4099, 11.9820, \n",
    "              11.4033, 11.5281, 11.3320, 11.3123, 11.6344, 11.4354]\n",
    "\n",
    "t_statistic, p_value = stats.ttest_rel(asm_func30, c_func30)\n",
    "\n",
    "# Define significance level\n",
    "alpha = 0.05\n",
    "\n",
    "# Print results\n",
    "print(\"t-statistic:\", t_statistic)\n",
    "print(\"p-value:\", p_value)\n",
    "\n",
    "if p_value < alpha:\n",
    "    print(\"Reject null hypothesis. asm_func30 is significantly faster than c_func30.\")\n",
    "else:\n",
    "    print(\"Fail to reject null hypothesis. There is no significant difference in speed.\")\n"
   ]
  },
  {
   "cell_type": "code",
   "execution_count": 11,
   "metadata": {},
   "outputs": [
    {
     "name": "stdout",
     "output_type": "stream",
     "text": [
      "t-statistic: -441.39411779338303\n",
      "p-value: 4.6869694435266393e-57\n",
      "Reject null hypothesis. asm_func30 is significantly faster than c_func30.\n"
     ]
    }
   ],
   "source": [
    "c_func20 = [2.8615, 2.8323, 2.8313, 2.8562, 2.8387, 2.8343, \n",
    "             2.8385, 2.9024, 2.8318, 2.8285, 2.8277, 2.8278, \n",
    "             2.8278, 2.8278, 2.8277, 2.9653, 3.0496, 2.8553, \n",
    "             2.8303, 2.8309, 2.9550, 2.8487, 2.8288, 2.8292, \n",
    "             2.8278, 2.8810, 2.8278, 2.8278, 2.8277, 2.9854]\n",
    "asm_func20 = [0.7085, 0.7076, 0.7072, 0.7069, 0.7075, 0.7120, \n",
    "              0.7069, 0.7070, 0.7069, 0.7072, 0.7069, 0.7216, \n",
    "              0.7084, 0.7069, 0.7069, 0.8196, 0.8146, 0.7226, \n",
    "              0.7073, 0.7072, 0.7070, 0.7070, 0.7076, 0.7069, \n",
    "              0.8569, 0.7070, 0.7069, 0.7069, 0.7070, 0.7070]\n",
    "\n",
    "t_statistic, p_value = stats.ttest_rel(asm_func30, c_func30)\n",
    "\n",
    "# Define significance level\n",
    "alpha = 0.05\n",
    "\n",
    "# Print results\n",
    "print(\"t-statistic:\", t_statistic)\n",
    "print(\"p-value:\", p_value)\n",
    "\n",
    "if p_value < alpha:\n",
    "    print(\"Reject null hypothesis. asm_func30 is significantly faster than c_func30.\")\n",
    "else:\n",
    "    print(\"Fail to reject null hypothesis. There is no significant difference in speed.\")"
   ]
  }
 ],
 "metadata": {
  "kernelspec": {
   "display_name": "Python 3 (ipykernel)",
   "language": "python",
   "name": "python3"
  },
  "language_info": {
   "codemirror_mode": {
    "name": "ipython",
    "version": 3
   },
   "file_extension": ".py",
   "mimetype": "text/x-python",
   "name": "python",
   "nbconvert_exporter": "python",
   "pygments_lexer": "ipython3",
   "version": "3.10.13"
  }
 },
 "nbformat": 4,
 "nbformat_minor": 2
}
